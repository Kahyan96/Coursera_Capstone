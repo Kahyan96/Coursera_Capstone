{
 "cells": [
  {
   "cell_type": "markdown",
   "metadata": {},
   "source": [
    "**Introduction and identify the problem**\\\n",
    "My relatives would like to open a coffee shop in New York City. However, she lack of knowledge about this industry. Therefore, this report is to help her understand more about the industry condition of New York City and competitor. Based on previous research, the interest by consumers in the premium coffee house industry is getting popular in recent years. The ideal premium coffee shop will provide a friendly, comfortable atmosphere where the customer can receive quality food, service and entertainment at a reasonable price. Besides that, the premium type coffee house will offer a variety of choices to the customers. Coffee and tea of all sorts will be offered. Juice, soda, and non-alcoholic beverages also will be available. Moreover, the location of premium coffee shop is one of the essential elements to be success in this industry. The reason behind is a strategic location can easily expose to huge traffic of people therefore enhance the probability of people to enter the shop and spend for a coffee. Therefore, this report would like to explore the business opportunity of coffee shop and strategic location in the area of New York City. \n",
    "\n",
    "**Data**\\\n",
    "The data using for this project is the neighborhood data of New York City. The data was downloaded from the repository name New York City neighborhood name. The data had included a few information such as Neighborhood name, Latitude and Longitude. This report will use the data mentioned above to analysis the business condition within the area of New York City. Besides that, the data also used for identify the potential competitors and how they doing in this area. \n"
   ]
  },
  {
   "cell_type": "code",
   "execution_count": null,
   "metadata": {},
   "outputs": [],
   "source": []
  }
 ],
 "metadata": {
  "kernelspec": {
   "display_name": "Python",
   "language": "python",
   "name": "conda-env-python-py"
  },
  "language_info": {
   "codemirror_mode": {
    "name": "ipython",
    "version": 3
   },
   "file_extension": ".py",
   "mimetype": "text/x-python",
   "name": "python",
   "nbconvert_exporter": "python",
   "pygments_lexer": "ipython3",
   "version": "3.6.11"
  }
 },
 "nbformat": 4,
 "nbformat_minor": 4
}
